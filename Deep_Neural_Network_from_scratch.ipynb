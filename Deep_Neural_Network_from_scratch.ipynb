{
  "nbformat": 4,
  "nbformat_minor": 0,
  "metadata": {
    "colab": {
      "name": "Deep Neural Network from scratch.ipynb",
      "provenance": [],
      "collapsed_sections": []
    },
    "kernelspec": {
      "name": "python3",
      "display_name": "Python 3"
    }
  },
  "cells": [
    {
      "cell_type": "code",
      "metadata": {
        "id": "nsYxa89j3jah"
      },
      "source": [
        "import os\n",
        "os.chdir('/content/drive/My Drive/DL data/Deep NN')"
      ],
      "execution_count": 355,
      "outputs": []
    },
    {
      "cell_type": "code",
      "metadata": {
        "id": "CVFRTKHTyGT2"
      },
      "source": [
        "import numpy as np\n",
        "import h5py\n",
        "import matplotlib.pyplot as plt"
      ],
      "execution_count": 356,
      "outputs": []
    },
    {
      "cell_type": "markdown",
      "metadata": {
        "id": "76K7HNbh5-BT"
      },
      "source": [
        "Let's write two helper functions that will initialize the parameters for your model. The first function will be used to initialize parameters for a two layer model. The second one will generalize this initialization process to  L  layers:"
      ]
    },
    {
      "cell_type": "code",
      "metadata": {
        "id": "VyFK1O5I3Icb"
      },
      "source": [
        "def initialize_parameters(n_x, n_h, n_y):\n",
        "    W1 = np.random.randn(n_h, n_x)*0.01\n",
        "    b1 = np.zeros((n_h, 1))\n",
        "    W2 = np.random.randn(n_y, n_h) * 0.01\n",
        "    b2 = np.zeros((n_y, 1))\n",
        "\n",
        "    parameters = {\"W1\": W1, \"b1\": b1, \"W2\": W2, \"b2\": b2}\n",
        "    return parameters "
      ],
      "execution_count": 357,
      "outputs": []
    },
    {
      "cell_type": "code",
      "metadata": {
        "id": "Gy4WCaEw4OVM"
      },
      "source": [
        "def initialize_parameters_deep(layer_dims):      # layer_dims = python array (list) containing the dimensions of each layer in our network\n",
        "    parameters = {}\n",
        "    L = len(layer_dims)   # number of layers in the network\n",
        "\n",
        "    for l in range(1, L):     # looping starts from 1 to exclude the input layer\n",
        "        parameters['W' + str(l)] = np.random.randn(layer_dims[l], layer_dims[l-1])/np.sqrt(layer_dims[l-1])   # *0.01\n",
        "        parameters['b' + str(l)] = np.zeros((layer_dims[l], 1))\n",
        "        \n",
        "    return parameters"
      ],
      "execution_count": 358,
      "outputs": []
    },
    {
      "cell_type": "markdown",
      "metadata": {
        "id": "zj5TyysZ6H1D"
      },
      "source": [
        "Forward propagation:"
      ]
    },
    {
      "cell_type": "code",
      "metadata": {
        "id": "SqD1N9pw5wj7"
      },
      "source": [
        "def linear_forward(A, W, b):\n",
        "    Z = np.dot(W, A) + b\n",
        "    cache = (A, W, b)\n",
        "    \n",
        "    return Z, cache"
      ],
      "execution_count": 359,
      "outputs": []
    },
    {
      "cell_type": "markdown",
      "metadata": {
        "id": "M1jwj6pY6nlV"
      },
      "source": [
        "Linear activation functions - sigmoid and ReLU:"
      ]
    },
    {
      "cell_type": "code",
      "metadata": {
        "id": "j0vEc-I87BAt"
      },
      "source": [
        "def sigmoid(Z):\n",
        "    A = 1/(1+np.exp(-Z))\n",
        "    cache = Z\n",
        "    \n",
        "    return A, cache"
      ],
      "execution_count": 360,
      "outputs": []
    },
    {
      "cell_type": "code",
      "metadata": {
        "id": "ngKkT8637K65"
      },
      "source": [
        "def relu(Z):\n",
        "    A = np.maximum(0,Z)\n",
        "    cache = Z \n",
        "\n",
        "    return A, cache"
      ],
      "execution_count": 361,
      "outputs": []
    },
    {
      "cell_type": "code",
      "metadata": {
        "id": "SfPU2MF66fVb"
      },
      "source": [
        "def linear_activation_forward(A_prev, W, b, activation):\n",
        "    if activation == \"sigmoid\":\n",
        "        Z, linear_cache = linear_forward(A_prev, W, b)\n",
        "        A, activation_cache = sigmoid(Z)\n",
        "    \n",
        "    elif activation == \"relu\":\n",
        "        Z, linear_cache = linear_forward(A_prev, W, b)\n",
        "        A, activation_cache = relu(Z)\n",
        "\n",
        "    cache = (linear_cache, activation_cache)\n",
        "\n",
        "    return A, cache"
      ],
      "execution_count": 362,
      "outputs": []
    },
    {
      "cell_type": "markdown",
      "metadata": {
        "id": "XCbI-OMUBKxC"
      },
      "source": [
        "Forward propagation:"
      ]
    },
    {
      "cell_type": "code",
      "metadata": {
        "id": "T7Kg3aWG7bUo"
      },
      "source": [
        "def L_model_forward(X, parameters):      # X = input and parameters = output of initialize_parameters_deep()\n",
        "    caches = []\n",
        "    A = X\n",
        "    L = len(parameters) // 2     # number of layers in the neural network because parameters has W1, b1 for 1st layer and so on\n",
        "\n",
        "    for l in range(1, L):\n",
        "        A_prev = A \n",
        "        A, cache = linear_activation_forward(A_prev, parameters['W' + str(l)], parameters['b' + str(l)], activation='relu')    # All the hidden layers use relu activation\n",
        "        caches.append(cache)                                                                                                   \n",
        "        \n",
        "    AL, cache = linear_activation_forward(A, parameters['W' + str(L)], parameters['b' + str(L)], activation='sigmoid')    # Output layer uses sigmoid \n",
        "    caches.append(cache)\n",
        "            \n",
        "    return AL, caches"
      ],
      "execution_count": 363,
      "outputs": []
    },
    {
      "cell_type": "markdown",
      "metadata": {
        "id": "1tN21ng9dwKf"
      },
      "source": [
        "Cross Entropy cost function:"
      ]
    },
    {
      "cell_type": "code",
      "metadata": {
        "id": "ip3RNtnR87qW"
      },
      "source": [
        "def compute_cost(AL, Y):\n",
        "    m = Y.shape[1]     # number of training examples\n",
        "    cost = (-1/m) * np.sum(np.multiply(np.log(AL),Y) + np.multiply(np.log(1-AL),1-Y))\n",
        "    return cost"
      ],
      "execution_count": 364,
      "outputs": []
    },
    {
      "cell_type": "markdown",
      "metadata": {
        "id": "o41e2ZQPejFh"
      },
      "source": [
        "Back propagation, We define two functions : linear_backward and the backward step for the activation linear_activation_backward"
      ]
    },
    {
      "cell_type": "code",
      "metadata": {
        "id": "OwO7jYFbeSEj"
      },
      "source": [
        "def linear_backward(dZ, cache):\n",
        "    A_prev, W, b = cache\n",
        "    m = A_prev.shape[1]\n",
        "\n",
        "    dW = (1/m)*np.dot(dZ, A_prev.T)   # dW = d(cost)/dW and so on\n",
        "    db = (1/m)*np.sum(dZ, axis=1, keepdims=True)   \n",
        "    dA_prev = np.dot(W.T, dZ)\n",
        "\n",
        "    return dA_prev, dW, db"
      ],
      "execution_count": 365,
      "outputs": []
    },
    {
      "cell_type": "code",
      "metadata": {
        "id": "UGj2EEMVgRKh"
      },
      "source": [
        "def sigmoid_backward(dA, cache):\n",
        "    Z = cache\n",
        "    s = 1/(1+np.exp(-Z))\n",
        "    dZ = dA * s * (1-s)\n",
        "    \n",
        "    return dZ"
      ],
      "execution_count": 366,
      "outputs": []
    },
    {
      "cell_type": "code",
      "metadata": {
        "id": "lKJoTyo8gk_-"
      },
      "source": [
        "def relu_backward(dA, cache):\n",
        "    Z = cache\n",
        "    dZ = np.array(dA, copy=True)      # just converting dz to a correct object.\n",
        "    \n",
        "    # When z <= 0, set dz to 0 as well. \n",
        "    dZ[Z <= 0] = 0\n",
        "    \n",
        "    return dZ"
      ],
      "execution_count": 367,
      "outputs": []
    },
    {
      "cell_type": "code",
      "metadata": {
        "id": "CJcLXVWpfJ2X"
      },
      "source": [
        "def linear_activation_backward(dA, cache, activation):\n",
        "    linear_cache, activation_cache = cache\n",
        "    \n",
        "    if activation == \"relu\":\n",
        "        dZ = relu_backward(dA, activation_cache)\n",
        "        dA_prev, dW, db = linear_backward(dZ, linear_cache)\n",
        "        \n",
        "    elif activation == \"sigmoid\":\n",
        "        dZ = sigmoid_backward(dA, activation_cache)\n",
        "        dA_prev, dW, db = linear_backward(dZ, linear_cache)\n",
        "    \n",
        "    return dA_prev, dW, db"
      ],
      "execution_count": 368,
      "outputs": []
    },
    {
      "cell_type": "markdown",
      "metadata": {
        "id": "gAlsodNtk04K"
      },
      "source": [
        "Now we go: Output --> Sigmoid --> Linear --> ReLU --> Linear:"
      ]
    },
    {
      "cell_type": "code",
      "metadata": {
        "id": "jO0QXZvOhMPy"
      },
      "source": [
        "def L_model_backward(AL, Y, caches):    # caches -- list of caches containing: 1. every cache of linear_activation_forward() with \"relu\" (it's caches[l], for l in range(L-1) i.e l = 0...L-2)\n",
        "                                                                           #   2. the cache of linear_activation_forward() with \"sigmoid\" (it's caches[L-1])\n",
        "    grads = {}\n",
        "    L = len(caches)      # the number of layers in the network\n",
        "    m = AL.shape[1]      # total number of training examples\n",
        "    Y = Y.reshape(AL.shape)     # Now, Y is the same shape as AL\n",
        "\n",
        "    dAL = dAL = - (np.divide(Y, AL) - np.divide(1 - Y, 1 - AL))    # d(cost)/d(AL)\n",
        "\n",
        "    current_cache = caches[L-1]\n",
        "    grads[\"dA\" + str(L-1)], grads[\"dW\" + str(L)], grads[\"db\" + str(L)] = linear_activation_backward(dAL, current_cache, activation='sigmoid')   # dAL = dA of the output layer\n",
        "\n",
        "    # Loop from l = L-2 to l = 0\n",
        "    for l in reversed(range(L-1)):\n",
        "        # lth layer: (RELU -> LINEAR) gradients.\n",
        "        current_cache = caches[l]\n",
        "        dA_prev_temp, dW_temp, db_temp = linear_activation_backward(grads[\"dA\" + str(l + 1)], current_cache, activation='relu')   # grads[\"dA\" + str(l + 1)] = dA of the next layer\n",
        "        grads[\"dA\" + str(l)] = dA_prev_temp\n",
        "        grads[\"dW\" + str(l + 1)] = dW_temp\n",
        "        grads[\"db\" + str(l + 1)] = db_temp\n",
        "\n",
        "    return grads"
      ],
      "execution_count": 369,
      "outputs": []
    },
    {
      "cell_type": "markdown",
      "metadata": {
        "id": "nvu5p1NevzUX"
      },
      "source": [
        "Update the parameters:"
      ]
    },
    {
      "cell_type": "code",
      "metadata": {
        "id": "k_w3xtZzm7Ob"
      },
      "source": [
        "def update_parameters(parameters, grads, learning_rate):\n",
        "    L = len(parameters) // 2 # number of layers in the neural network\n",
        "    \n",
        "    # Update rule for each parameter. Use a for loop.\n",
        "    for l in range(L):\n",
        "        parameters[\"W\" + str(l+1)] = parameters[\"W\" + str(l+1)] - learning_rate*grads['dW'+ str(l+1)]\n",
        "        parameters[\"b\" + str(l+1)] = parameters[\"b\" + str(l+1)] - learning_rate*grads['db'+ str(l+1)]\n",
        "\n",
        "    return parameters"
      ],
      "execution_count": 370,
      "outputs": []
    },
    {
      "cell_type": "markdown",
      "metadata": {
        "id": "C1OvZi1IxVVK"
      },
      "source": [
        "Now, we'll build an image classifier using these functions. Train and test data are in .h5 format. Access them by h5py library. There are 209 training images of size 64x64 with 3 channels. 209 training labels (0: non-cat or 1: cat). Similarly, 50 test images of size 64x64 with 3 channels and 50 test labels (0: non-cat or 1: cat)."
      ]
    },
    {
      "cell_type": "code",
      "metadata": {
        "id": "hptKbglAw_QR",
        "outputId": "8bc677b8-0c2d-442f-9813-17daf8d096e6",
        "colab": {
          "base_uri": "https://localhost:8080/",
          "height": 84
        }
      },
      "source": [
        "with h5py.File('/content/drive/My Drive/DL data/catvsnoncat/train_catvnoncat.h5', \"r\") as train_dataset:\n",
        "    train_x_orig = np.array(train_dataset[\"train_set_x\"][:])\n",
        "    train_y_orig = np.array(train_dataset[\"train_set_y\"][:])\n",
        "\n",
        "with h5py.File('/content/drive/My Drive/DL data/catvsnoncat/test_catvnoncat.h5', \"r\") as test_dataset:\n",
        "    test_x_orig = np.array(test_dataset[\"test_set_x\"][:])\n",
        "    test_y_orig = np.array(test_dataset[\"test_set_y\"][:])\n",
        "    classes = np.array(test_dataset[\"list_classes\"][:])\n",
        "\n",
        "print(train_x_orig.shape)\n",
        "print(train_y_orig.shape)\n",
        "print(test_x_orig.shape)\n",
        "print(test_y_orig.shape)\n"
      ],
      "execution_count": 371,
      "outputs": [
        {
          "output_type": "stream",
          "text": [
            "(209, 64, 64, 3)\n",
            "(209,)\n",
            "(50, 64, 64, 3)\n",
            "(50,)\n"
          ],
          "name": "stdout"
        }
      ]
    },
    {
      "cell_type": "code",
      "metadata": {
        "id": "GRQGvK74xR49",
        "outputId": "145f3782-0e7a-45c7-ed9d-bcbd78c45748",
        "colab": {
          "base_uri": "https://localhost:8080/",
          "height": 285
        }
      },
      "source": [
        "index = 25\n",
        "plt.imshow(train_x_orig[index])\n",
        "print(\"y = \" + str(train_y_orig[index]) + \". It's a \" + classes[train_y_orig[index]].decode(\"utf-8\") +  \" picture.\")"
      ],
      "execution_count": 372,
      "outputs": [
        {
          "output_type": "stream",
          "text": [
            "y = 1. It's a cat picture.\n"
          ],
          "name": "stdout"
        },
        {
          "output_type": "display_data",
          "data": {
            "image/png": "[encoded data removed]",
            "text/plain": [
              "<Figure size 432x288 with 1 Axes>"
            ]
          },
          "metadata": {
            "tags": [],
            "needs_background": "light"
          }
        }
      ]
    },
    {
      "cell_type": "markdown",
      "metadata": {
        "id": "VlItxx3MxrbX"
      },
      "source": [
        "Flatten the data to convert it into a vector:"
      ]
    },
    {
      "cell_type": "code",
      "metadata": {
        "id": "hD19d5Z_xeVT",
        "outputId": "160e8a41-d6fb-44d0-e268-956837c7dd39",
        "colab": {
          "base_uri": "https://localhost:8080/",
          "height": 84
        }
      },
      "source": [
        "train_x = train_x_orig.reshape(train_x_orig.shape[0], -1).T   \n",
        "test_x = test_x_orig.reshape(test_x_orig.shape[0], -1).T\n",
        "train_y = train_y_orig.reshape((1, train_y_orig.shape[0]))\n",
        "test_y = test_y_orig.reshape((1, test_y_orig.shape[0]))\n",
        "\n",
        "print(train_x.shape)\n",
        "print(test_x.shape)\n",
        "print(train_y.shape)\n",
        "print(test_y.shape)"
      ],
      "execution_count": 373,
      "outputs": [
        {
          "output_type": "stream",
          "text": [
            "(12288, 209)\n",
            "(12288, 50)\n",
            "(1, 209)\n",
            "(1, 50)\n"
          ],
          "name": "stdout"
        }
      ]
    },
    {
      "cell_type": "markdown",
      "metadata": {
        "id": "3lZbweHTx0Bj"
      },
      "source": [
        "Standardize the data set:"
      ]
    },
    {
      "cell_type": "code",
      "metadata": {
        "id": "lbidr1hgxl0y"
      },
      "source": [
        "train_x = train_x/255. \n",
        "test_x = test_x/255."
      ],
      "execution_count": 374,
      "outputs": []
    },
    {
      "cell_type": "markdown",
      "metadata": {
        "id": "I7JNqqA1x4wd"
      },
      "source": [
        "We will build two different models - A 2-layer neural network and an L-layer deep neural network:"
      ]
    },
    {
      "cell_type": "code",
      "metadata": {
        "id": "e0BfoEcPxzUS"
      },
      "source": [
        "n_x = 12288    # number of features\n",
        "n_h = 7    # number of hidden units\n",
        "n_y = 1    # number of output units\n",
        "layers_dims = (n_x, n_h, n_y)"
      ],
      "execution_count": 375,
      "outputs": []
    },
    {
      "cell_type": "markdown",
      "metadata": {
        "id": "z2c-6QHF6Ewn"
      },
      "source": [
        "Model 1 - two layer model:"
      ]
    },
    {
      "cell_type": "code",
      "metadata": {
        "id": "9UBCU73PyMJP"
      },
      "source": [
        "def two_layer_model(X, Y, layers_dims, learning_rate = 0.0075, num_iterations = 3000):\n",
        "    grads = {}\n",
        "    costs = []        # to keep track of the cost\n",
        "    m = X.shape[1]    # number of training examples\n",
        "    (n_x, n_h, n_y) = layers_dims\n",
        "\n",
        "    parameters = initialize_parameters(n_x, n_h, n_y)\n",
        "\n",
        "    W1 = parameters[\"W1\"]\n",
        "    b1 = parameters[\"b1\"]\n",
        "    W2 = parameters[\"W2\"]\n",
        "    b2 = parameters[\"b2\"]\n",
        "\n",
        "    for i in range(0, num_iterations):\n",
        "        \n",
        "        # Forward propagation\n",
        "        A1, cache1 = linear_activation_forward(X, W1, b1, activation='relu')\n",
        "        A2, cache2 = linear_activation_forward(A1, W2, b2, activation='sigmoid')\n",
        "        \n",
        "        # Compute cost\n",
        "        cost = compute_cost(A2, Y)\n",
        "        \n",
        "        # Initializing backward propagation\n",
        "        dA2 = - (np.divide(Y, A2) - np.divide(1 - Y, 1 - A2))\n",
        "        \n",
        "        # Backward propagation\n",
        "        dA1, dW2, db2 = linear_activation_backward(dA2, cache2, activation='sigmoid')\n",
        "        dA0, dW1, db1 = linear_activation_backward(dA1, cache1, activation='relu')\n",
        "        \n",
        "        # Store the gradients in grads with the corresponding name\n",
        "        grads['dW1'] = dW1\n",
        "        grads['db1'] = db1\n",
        "        grads['dW2'] = dW2\n",
        "        grads['db2'] = db2\n",
        "        \n",
        "        # Update parameters.\n",
        "        parameters = update_parameters(parameters, grads, learning_rate)\n",
        "\n",
        "        # Retrieve W1, b1, W2, b2 from parameters\n",
        "        W1 = parameters[\"W1\"]\n",
        "        b1 = parameters[\"b1\"]\n",
        "        W2 = parameters[\"W2\"]\n",
        "        b2 = parameters[\"b2\"]\n",
        "        \n",
        "        # Print the cost every 100 training example\n",
        "        if i % 100 == 0:\n",
        "            print(\"Cost after iteration {}: {}\".format(i, cost))\n",
        "            costs.append(cost)\n",
        "       \n",
        "    # plot the cost\n",
        "    plt.plot(costs)\n",
        "    plt.ylabel('cost')\n",
        "    plt.xlabel('iterations (per hundreds)')\n",
        "    plt.title(\"Learning rate =\" + str(learning_rate))\n",
        "    plt.show()\n",
        "    \n",
        "    return parameters"
      ],
      "execution_count": 376,
      "outputs": []
    },
    {
      "cell_type": "code",
      "metadata": {
        "id": "f2zrrMN00IRg",
        "outputId": "436b3285-2fe2-4fe8-f0ee-02fcdfbad737",
        "colab": {
          "base_uri": "https://localhost:8080/",
          "height": 715
        }
      },
      "source": [
        "parameters = two_layer_model(train_x, train_y, layers_dims = (n_x, n_h, n_y), num_iterations = 2500)"
      ],
      "execution_count": 377,
      "outputs": [
        {
          "output_type": "stream",
          "text": [
            "Cost after iteration 0: 0.6934417915902951\n",
            "Cost after iteration 100: 0.6471006411365473\n",
            "Cost after iteration 200: 0.6348660445275538\n",
            "Cost after iteration 300: 0.6074053573273522\n",
            "Cost after iteration 400: 0.56853252251732\n",
            "Cost after iteration 500: 0.5290057052390119\n",
            "Cost after iteration 600: 0.4898414835158636\n",
            "Cost after iteration 700: 0.4613922320328614\n",
            "Cost after iteration 800: 0.4252085740389685\n",
            "Cost after iteration 900: 0.39793624035442804\n",
            "Cost after iteration 1000: 0.36481138300263605\n",
            "Cost after iteration 1100: 0.3321791028033744\n",
            "Cost after iteration 1200: 0.282708226643849\n",
            "Cost after iteration 1300: 0.2528528299894745\n",
            "Cost after iteration 1400: 0.21536059888854353\n",
            "Cost after iteration 1500: 0.18605007993866746\n",
            "Cost after iteration 1600: 0.31216575148728526\n",
            "Cost after iteration 1700: 0.1269863210145678\n",
            "Cost after iteration 1800: 0.10743261341030622\n",
            "Cost after iteration 1900: 0.10240198267753915\n",
            "Cost after iteration 2000: 0.0774386577962279\n",
            "Cost after iteration 2100: 0.06860673133700812\n",
            "Cost after iteration 2200: 0.05933626632776403\n",
            "Cost after iteration 2300: 0.05249545341026938\n",
            "Cost after iteration 2400: 0.04691503901771661\n"
          ],
          "name": "stdout"
        },
        {
          "output_type": "display_data",
          "data": {
            "image/png": "[encoded data removed]",
            "text/plain": [
              "<Figure size 432x288 with 1 Axes>"
            ]
          },
          "metadata": {
            "tags": [],
            "needs_background": "light"
          }
        }
      ]
    },
    {
      "cell_type": "markdown",
      "metadata": {
        "id": "Yn-pKq6w5s2a"
      },
      "source": [
        "This function is used to predict the results of a  L-layer neural network:"
      ]
    },
    {
      "cell_type": "code",
      "metadata": {
        "id": "aQKJ9Al90Ltq"
      },
      "source": [
        "def predict(X, y, parameters):\n",
        "    m = X.shape[1]\n",
        "    n = len(parameters) // 2     # number of layers in the neural network\n",
        "    p = np.zeros((1,m))      # predictions for the given dataset X\n",
        "     \n",
        "    # Forward propagation\n",
        "    probas, caches = L_model_forward(X, parameters)\n",
        "\n",
        "    # convert probas to 0/1 predictions\n",
        "    for i in range(0, probas.shape[1]):\n",
        "        if probas[0,i] > 0.5:\n",
        "            p[0,i] = 1\n",
        "        else:\n",
        "            p[0,i] = 0\n",
        "    \n",
        "    print(\"Accuracy: \"  + str(np.sum((p == y)/m)))    \n",
        "    return p"
      ],
      "execution_count": 378,
      "outputs": []
    },
    {
      "cell_type": "markdown",
      "metadata": {
        "id": "dhNInRpM5ubi"
      },
      "source": [
        "Now, let's use the trained parameters to classify images from the dataset:"
      ]
    },
    {
      "cell_type": "code",
      "metadata": {
        "id": "mi5DttXx50n6",
        "outputId": "9d6a0414-759a-4e29-a1f6-cfc3da59a457",
        "colab": {
          "base_uri": "https://localhost:8080/",
          "height": 34
        }
      },
      "source": [
        "predictions_train = predict(train_x, train_y, parameters)"
      ],
      "execution_count": 379,
      "outputs": [
        {
          "output_type": "stream",
          "text": [
            "Accuracy: 0.9999999999999998\n"
          ],
          "name": "stdout"
        }
      ]
    },
    {
      "cell_type": "code",
      "metadata": {
        "id": "wLYscj0R51_y",
        "outputId": "820c8ba1-b9c3-4e51-f545-135bcc581360",
        "colab": {
          "base_uri": "https://localhost:8080/",
          "height": 34
        }
      },
      "source": [
        "predictions_test = predict(test_x, test_y, parameters)"
      ],
      "execution_count": 380,
      "outputs": [
        {
          "output_type": "stream",
          "text": [
            "Accuracy: 0.68\n"
          ],
          "name": "stdout"
        }
      ]
    },
    {
      "cell_type": "markdown",
      "metadata": {
        "id": "Ebr_JBCM6ING"
      },
      "source": [
        "Model 2: L-layer model:"
      ]
    },
    {
      "cell_type": "code",
      "metadata": {
        "id": "_plvlHBJ6ARM"
      },
      "source": [
        "layers_dims = [12288, 20, 7, 5, 1]     # 4-layer model"
      ],
      "execution_count": 381,
      "outputs": []
    },
    {
      "cell_type": "code",
      "metadata": {
        "id": "CpHKjBRb6M8F"
      },
      "source": [
        "def L_layer_model(X, Y, layers_dims, learning_rate = 0.0075, num_iterations = 3000):\n",
        "    costs = []     # keep track of cost\n",
        "    \n",
        "    # Parameters initialization\n",
        "    parameters = initialize_parameters_deep(layers_dims)\n",
        "    \n",
        "    # Loop (gradient descent)\n",
        "    for i in range(0, num_iterations):\n",
        "\n",
        "        # Forward propagation\n",
        "        AL, caches = L_model_forward(X, parameters)\n",
        "       \n",
        "        # Compute cost\n",
        "        cost = compute_cost(AL, Y)\n",
        "        \n",
        "        # Backward propagation\n",
        "        grads = L_model_backward(AL, Y, caches)\n",
        " \n",
        "        # Update parameters\n",
        "        parameters = update_parameters(parameters, grads, learning_rate)\n",
        "                \n",
        "        # Print the cost every 100 training example\n",
        "        if i % 100 == 0:\n",
        "            print (\"Cost after iteration %i: %f\" %(i, cost))\n",
        "            costs.append(cost)\n",
        "            \n",
        "    # plot the cost\n",
        "    plt.plot(costs)\n",
        "    plt.ylabel('cost')\n",
        "    plt.xlabel('iterations (per hundreds)')\n",
        "    plt.title(\"Learning rate =\" + str(learning_rate))\n",
        "    plt.show()\n",
        "    \n",
        "    return parameters"
      ],
      "execution_count": 382,
      "outputs": []
    },
    {
      "cell_type": "code",
      "metadata": {
        "id": "M1OcHZP07fYT",
        "outputId": "745320aa-6212-4d76-f2d8-2063c01f35a2",
        "colab": {
          "base_uri": "https://localhost:8080/",
          "height": 715
        }
      },
      "source": [
        "parameters = L_layer_model(train_x, train_y, layers_dims, num_iterations = 2500)"
      ],
      "execution_count": 383,
      "outputs": [
        {
          "output_type": "stream",
          "text": [
            "Cost after iteration 0: 0.695003\n",
            "Cost after iteration 100: 0.663719\n",
            "Cost after iteration 200: 0.619045\n",
            "Cost after iteration 300: 0.563908\n",
            "Cost after iteration 400: 0.491216\n",
            "Cost after iteration 500: 0.460253\n",
            "Cost after iteration 600: 0.424897\n",
            "Cost after iteration 700: 0.356382\n",
            "Cost after iteration 800: 0.243024\n",
            "Cost after iteration 900: 0.171161\n",
            "Cost after iteration 1000: 0.127543\n",
            "Cost after iteration 1100: 0.057659\n",
            "Cost after iteration 1200: 0.035566\n",
            "Cost after iteration 1300: 0.025717\n",
            "Cost after iteration 1400: 0.019510\n",
            "Cost after iteration 1500: 0.015402\n",
            "Cost after iteration 1600: 0.012516\n",
            "Cost after iteration 1700: 0.010405\n",
            "Cost after iteration 1800: 0.008801\n",
            "Cost after iteration 1900: 0.007579\n",
            "Cost after iteration 2000: 0.006611\n",
            "Cost after iteration 2100: 0.005840\n",
            "Cost after iteration 2200: 0.005207\n",
            "Cost after iteration 2300: 0.004678\n",
            "Cost after iteration 2400: 0.004236\n"
          ],
          "name": "stdout"
        },
        {
          "output_type": "display_data",
          "data": {
            "image/png": "[encoded data removed]",
            "text/plain": [
              "<Figure size 432x288 with 1 Axes>"
            ]
          },
          "metadata": {
            "tags": [],
            "needs_background": "light"
          }
        }
      ]
    },
    {
      "cell_type": "code",
      "metadata": {
        "id": "iLQTw_ue7hvA",
        "outputId": "fd556d4c-fbf5-421b-e62b-8390189b9c94",
        "colab": {
          "base_uri": "https://localhost:8080/",
          "height": 34
        }
      },
      "source": [
        "pred_train = predict(train_x, train_y, parameters)"
      ],
      "execution_count": 384,
      "outputs": [
        {
          "output_type": "stream",
          "text": [
            "Accuracy: 0.9999999999999998\n"
          ],
          "name": "stdout"
        }
      ]
    },
    {
      "cell_type": "code",
      "metadata": {
        "id": "W3DwBodg7v1X",
        "outputId": "1c303ffc-6f4f-4e1e-9d33-cbca94f64811",
        "colab": {
          "base_uri": "https://localhost:8080/",
          "height": 34
        }
      },
      "source": [
        "pred_test = predict(test_x, test_y, parameters)"
      ],
      "execution_count": 385,
      "outputs": [
        {
          "output_type": "stream",
          "text": [
            "Accuracy: 0.78\n"
          ],
          "name": "stdout"
        }
      ]
    },
    {
      "cell_type": "markdown",
      "metadata": {
        "id": "0fFWJdJO8Iob"
      },
      "source": [
        "**Yay! it seems that the 4-layer neural network has better performance than the 2-layer neural network on the same test set.**"
      ]
    },
    {
      "cell_type": "code",
      "metadata": {
        "id": "wCs0tOOy8jvw"
      },
      "source": [
        ""
      ],
      "execution_count": 385,
      "outputs": []
    }
  ]
}